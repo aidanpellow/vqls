{
 "cells": [
  {
   "cell_type": "markdown",
   "metadata": {},
   "source": [
    "# Classical Combination of Quantum States\n",
    "\n",
    "The Classical Combination of Quantum States (CQS) method is implemented below. The main implementation of CQS and the Ansatz Tree is imported from the quantum_classical_hybrid.py file. The problem is specified in the notebook.\n",
    "\n",
    "This method appears in \n",
    "Hsin-Yuan Huang et al.  \"Near-term quantum algorithms for linear systems of equations\" (2019) [arXiv:1909.07344]\n",
    "\n",
    "(Note that this CQS method is implemented using the Statevector simulator and not the QASM Simulator.Changing the the QASM simulator requires altering the Hadamard Test circuits in quantum_classical_hybrid.py wherever they occur.)\n",
    "\n",
    "[Note the Python library 'cvxopt' is required to run this notebook]"
   ]
  },
  {
   "cell_type": "code",
   "execution_count": 1,
   "metadata": {},
   "outputs": [],
   "source": [
    "#imports\n",
    "import random\n",
    "from math import pi\n",
    "from qiskit import QuantumCircuit, QuantumRegister, ClassicalRegister\n",
    "from scipy.optimize import minimize\n",
    "import copy\n",
    "import numpy as np\n",
    "from qiskit import Aer, execute\n",
    "from qiskit.visualization import plot_histogram\n",
    "\n",
    "import quantum_classical_hybrid as cqs"
   ]
  },
  {
   "cell_type": "markdown",
   "metadata": {},
   "source": [
    "## Specify the Problem\n",
    "\n",
    "Specifying the problem involves giving the number of qubits, and giving the relevant linear system $A\\vec{x} = \\vec{b}$ to be solved.\n",
    "\n",
    "$A$ is a $2^n \\times 2^n$ matrix given as a linear combination of $k$ unitary matrices $A = \\Sigma_i c_iA_i$. \n",
    "\n",
    "n_qubits = $n$ if  $A$ is a $2^n \\times 2^n$ matrix\n",
    "\n",
    "The values for $c_i$ are given in the coefficient list, $[c_0, ..., c_k]$.\n",
    "\n",
    "The unitaries $A_i$, of size $2^n \\times 2^n$, are given as controlled versions of their respective quantum gates, with the idx value in the create_state_A_i function corresponding to the coefficent in the coefficent list at that same idx value, $c_{idx}$.\n",
    "\n",
    "The control bit is assumed to be qubit 0, while the $A_i$ is to take up the $n$ qubits from $[1, ..., n]$. See diagram below for clarity.\n",
    "\n",
    "$\\vec{b}$ is given as a quantum state $|b>$ which is implemented here as the controlled version of the unitary gate $U$ such that $|b> = U|0>$.\n",
    "\n",
    "(Both $A_i$ and $U$ are implemented as controlled gates as per the cost function)\n",
    "\n",
    "This example problem gives $A = I + 0.2 \\cdot  X_1 Z_2 + 0.2 \\cdot  X_1$ (Where $X_1$ denotes an $X$ gate applied to the 1st qubit, similarly for the rest. $I$ denotes the Identity matrix (size 8 x 8 in this example) )"
   ]
  },
  {
   "cell_type": "code",
   "execution_count": 2,
   "metadata": {},
   "outputs": [],
   "source": [
    "#specific to problem\n",
    "n_qubits = 3 \n",
    "coefficients = [1, 0.2, 0.2]\n",
    "\n",
    "def create_controlled_state_b(quantum_circuit, qubits):\n",
    "    for i in qubits:\n",
    "        quantum_circuit.ch(0,i)\n",
    "        \n",
    "def create_controlled_state_b_dg(quantum_circuit, qubits):\n",
    "    create_controlled_state_b(quantum_circuit, qubits)\n",
    "    \n",
    "def create_state_A_i(quantum_circuit, idx):#assumed 0 is hadamard test ancilla\n",
    "    if(idx == 0):\n",
    "        None\n",
    "    if(idx == 1):\n",
    "        quantum_circuit.cx(0,1)\n",
    "        quantum_circuit.cz(0,2)\n",
    "    if(idx == 2):\n",
    "        quantum_circuit.cx(0,1)          \n",
    "        \n",
    "def create_state_A_i_dg(quantum_circuit, idx):\n",
    "    create_state_A_i(quantum_circuit, idx)"
   ]
  },
  {
   "cell_type": "markdown",
   "metadata": {},
   "source": [
    "An Ansatz_Tree object must be initiated, given by\n",
    "\n",
    "Ansatz_Tree(n_qubits, controlled_state_b, controlled_state_b_dg, controlled_A_l, controlled_A_l_dg, unitary_coefficients)\n",
    "\n",
    "| | |\n",
    "|-|-|\n",
    "|n_qubits|  number of qubits in the problem.|\n",
    "|controlled_state_b| function to create controlled version of $U$|\n",
    "|controlled_state_b_dg| function to create controlled version of $U^\\dagger$|\n",
    "|controlled_A_l| function to create controlled version of unitary $A_i$|\n",
    "|controlled_A_l_dg| function to create controlled version of unitary $A_i^\\dagger$|\n",
    "|unitary_coefficients| list of coefficients, $[c_0, ..., c_k]$|\n",
    "\n",
    "Once an Ansatz Tree object is instantiated, it initially contains only the state |b> as the root node. \n",
    "Calling the solve method will find an approximate solution to the system of linear equations given the nodes in the tree.\n",
    "\n",
    "There are currently 2 ways to expand the tree, bfs_add and heuristic_add. The solve method must be run before heuristic_add can be called.\n",
    "\n",
    "The solution_overlap method returns the current value of the cost function for the approximate solution. \n",
    "\n",
    "The return_solution_dictionary returns as plottable dictionary of the solution in a way comparable to the VQLS method. "
   ]
  },
  {
   "cell_type": "code",
   "execution_count": 3,
   "metadata": {},
   "outputs": [
    {
     "name": "stdout",
     "output_type": "stream",
     "text": [
      "2 nodes 1.376197766518997e-15\n",
      "3 nodes 1.3748113070023508e-15\n",
      "4 nodes 1.3612899561440935e-15\n",
      "5 nodes 1.0318366699923372e-15\n",
      "6 nodes 1.3549082248576888e-15\n",
      "[ 0.17142835-6.34159781e-08j -0.14285714-7.33010682e-19j\n",
      "  0.17142841-4.43835995e-08j  0.1714287 +3.59331925e-08j\n",
      "  0.1714287 +3.59331925e-08j  0.1714287 +3.59331925e-08j]\n"
     ]
    },
    {
     "name": "stderr",
     "output_type": "stream",
     "text": [
      "/home/aidan/anaconda3/lib/python3.8/site-packages/qiskit/visualization/counts_visualization.py:239: ComplexWarning: Casting complex values to real discards the imaginary part\n",
      "  values = np.array(values, dtype=float)\n"
     ]
    },
    {
     "data": {
      "image/png": "[encoded data removed]",
      "text/plain": [
       "<Figure size 504x360 with 1 Axes>"
      ]
     },
     "execution_count": 3,
     "metadata": {},
     "output_type": "execute_result"
    }
   ],
   "source": [
    "n_expansions = 6\n",
    "ansatz_tree = cqs.Ansatz_Tree(n_qubits, create_controlled_state_b, create_controlled_state_b_dg, create_state_A_i, create_state_A_i_dg, coefficients)\n",
    "ansatz_tree.solve()\n",
    "\n",
    "for i in range(2, n_expansions+1):\n",
    "    ansatz_tree.heuristic_add() #Alternatively -> ansatz_tree.bfs_add()\n",
    "    ansatz_tree.solve()\n",
    "    sol = ansatz_tree.solution_overlap()\n",
    "    print(\"{0} nodes\".format(i), sol)\n",
    "print(ansatz_tree.solution)\n",
    "\n",
    "result = ansatz_tree.return_solution_dictionary()\n",
    "plot_histogram(result)"
   ]
  },
  {
   "cell_type": "code",
   "execution_count": null,
   "metadata": {},
   "outputs": [],
   "source": []
  }
 ],
 "metadata": {
  "kernelspec": {
   "display_name": "Python 3",
   "language": "python",
   "name": "python3"
  },
  "language_info": {
   "codemirror_mode": {
    "name": "ipython",
    "version": 3
   },
   "file_extension": ".py",
   "mimetype": "text/x-python",
   "name": "python",
   "nbconvert_exporter": "python",
   "pygments_lexer": "ipython3",
   "version": "3.8.3"
  }
 },
 "nbformat": 4,
 "nbformat_minor": 4
}

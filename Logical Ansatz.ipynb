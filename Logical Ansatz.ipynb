{
 "cells": [
  {
   "cell_type": "markdown",
   "metadata": {},
   "source": [
    "# Logical Ansatz Variational Quantum Linear Solver\n",
    "\n",
    "This method is an adaption of the CQS method suggested in \n",
    "Hsin-Yuan Huang et al.  \"Near-term quantum algorithms for linear systems of equations\" (2019) [arXiv:1909.07344]\n",
    "\n",
    "[Note the Python library 'cvxopt' is required to run this notebook]"
   ]
  },
  {
   "cell_type": "code",
   "execution_count": 1,
   "metadata": {},
   "outputs": [],
   "source": [
    "#imports\n",
    "import random\n",
    "from math import pi\n",
    "from qiskit import QuantumCircuit, QuantumRegister, ClassicalRegister\n",
    "from scipy.optimize import minimize\n",
    "import copy\n",
    "import numpy as np\n",
    "from qiskit import Aer, execute\n",
    "from qiskit.visualization import plot_histogram\n",
    "\n",
    "import parameterized_training_cqs_qasm as la"
   ]
  },
  {
   "cell_type": "markdown",
   "metadata": {},
   "source": [
    "## Define Problem Variables\n",
    "\n",
    "| | |\n",
    "|-|-| \n",
    "|n_unitaries | number of unitaries used in the logical ansatz|\n",
    "|unitary_depth| depth of the unitaries used in the logical ansatz|\n",
    "|method| optimization method, from scipy.optimize.minimize|\n",
    "|options| optimization options dictionary, from scipy.optimize.minimize| \n",
    "|n_training_rounds | number of logical ansatz training rounds |\n",
    "|n_qubits| number of qubits in the problem specification| "
   ]
  },
  {
   "cell_type": "code",
   "execution_count": 2,
   "metadata": {},
   "outputs": [],
   "source": [
    "#PROBLEM VARIABLES\n",
    "n_unitaries = 2  #Number of random unitaries used in the solution, x = a_1.x_1 + ... + a_n.x_n\n",
    "unitary_depth = 1  #Depth of the random unitaries, depth 1 means one row of U3 gates, depth > 1 introduces random CX gates too\n",
    "method = \"COBYLA\"  #Optimization method (scipy minimize), alternatives => Powell, Nelder-Mead\n",
    "options = {'rhobeg':pi ,'maxiter':500}  #Optimization options (scipy minimize)\n",
    "n_training_rounds = 1 #Number of training rounds \n",
    "n_qubits = 3"
   ]
  },
  {
   "cell_type": "markdown",
   "metadata": {},
   "source": [
    "## Specify the Problem\n",
    "\n",
    "Specifying the problem involves giving the number of qubits, and giving the relevant linear system $A\\vec{x} = \\vec{b}$ to be solved.\n",
    "\n",
    "$A$ is a $2^n \\times 2^n$ matrix given as a linear combination of $k$ unitary matrices $A = \\Sigma_i c_iA_i$. \n",
    "\n",
    "n_qubits = $n$ if  $A$ is a $2^n \\times 2^n$ matrix\n",
    "\n",
    "The values for $c_i$ are given in the coefficient list, $[c_0, ..., c_k]$.\n",
    "\n",
    "The unitaries $A_i$, of size $2^n \\times 2^n$, are given as controlled versions of their respective quantum gates, with the idx value in the create_state_A_i function corresponding to the coefficent in the coefficent list at that same idx value, $c_{idx}$.\n",
    "\n",
    "The control bit is assumed to be qubit 0, while the $A_i$ is to take up the $n$ qubits from $[1, ..., n]$. See diagram below for clarity.\n",
    "\n",
    "$\\vec{b}$ is given as a quantum state $|b>$ which is implemented here as the controlled version of the unitary gate $U$ such that $|b> = U|0>$.\n",
    "\n",
    "(Both $A_i$ and $U$ are implemented as controlled gates as per the cost function)\n",
    "\n",
    "This example problem gives $A = I + 0.2 \\cdot  X_1 Z_2 + 0.2 \\cdot  X_1$ (Where $X_1$ denotes an $X$ gate applied to the 1st qubit, similarly for the rest. $I$ denotes the Identity matrix (size 8 x 8 in this example) )"
   ]
  },
  {
   "cell_type": "code",
   "execution_count": 3,
   "metadata": {},
   "outputs": [],
   "source": [
    "#specific to problem\n",
    "coefficients = [1, 0.2, 0.2]\n",
    "\n",
    "def create_controlled_state_b(quantum_circuit, qubits):\n",
    "    for i in qubits:\n",
    "        quantum_circuit.ch(0,i)\n",
    "        \n",
    "def create_controlled_state_b_dg(quantum_circuit, qubits):\n",
    "    create_controlled_state_b(quantum_circuit, qubits)\n",
    "    \n",
    "def create_state_A_i(quantum_circuit, idx):#assumed 0 is hadamard test ancilla\n",
    "    if(idx == 0):\n",
    "        None\n",
    "    if(idx == 1):\n",
    "        quantum_circuit.cx(0,1)\n",
    "        quantum_circuit.cz(0,2)\n",
    "    if(idx == 2):\n",
    "        quantum_circuit.cx(0,1)          \n",
    "        \n",
    "def create_state_A_i_dg(quantum_circuit, idx):\n",
    "    create_state_A_i(quantum_circuit, idx)"
   ]
  },
  {
   "cell_type": "markdown",
   "metadata": {},
   "source": [
    "## Creating the Parameterized Unitaries\n",
    "Here random parameterized circuits are instantiated, as the Random_Parameterized_Unitary class, and stored in a list. \n",
    "\n",
    "This idea could be adapted in the parameterized_training_cqs_qasm.py file, to create any sort of ansatz required. All that must be ensured is that all the same methods as in the Random_Parameterized_Unitary are included. "
   ]
  },
  {
   "cell_type": "code",
   "execution_count": 4,
   "metadata": {},
   "outputs": [
    {
     "name": "stdout",
     "output_type": "stream",
     "text": [
      "Unitaries Used\n",
      "\n",
      "['RY', 'RY', 'RY']\n",
      "\n",
      "['RY', 'RY', 'RY']\n",
      "\n"
     ]
    }
   ],
   "source": [
    "parameterized_unitaries = []\n",
    "for i in range(n_unitaries):\n",
    "    parameterized_unitaries.append(la.Random_Parameterized_Unitary(n_qubits,unitary_depth))\n",
    "\n",
    "print(\"Unitaries Used\\n\")\n",
    "for i in parameterized_unitaries:\n",
    "    print(i) #prints the unitaries as rows of gates in order\n"
   ]
  },
  {
   "cell_type": "markdown",
   "metadata": {},
   "source": [
    "## Creating a Solver Object\n",
    "\n",
    "CQS_Solver(parameterized_unitaries, controlled_state_b, controlled_state_b_dg, controlled_A_l, controlled_A_l_dg, unitary_coefficients, method, options)\n",
    "\n",
    "| | |\n",
    "|-|-|\n",
    "|parameterized_unitaries|  a list of parameterized unitaries|\n",
    "|controlled_state_b| function to create controlled version of $U$|\n",
    "|controlled_state_b_dg| function to create controlled version of $U^\\dagger$|\n",
    "|controlled_A_l| function to create controlled version of unitary $A_i$|\n",
    "|controlled_A_l_dg| function to create controlled version of unitary $A_i^\\dagger$|\n",
    "|unitary_coefficients| list of coefficients, $[c_0, ..., c_k]$|\n",
    "|method| the optimization method from scipy.optimize.minimize, note no gradient function has been included here|\n",
    "|options|The optimization options dictionary of the above method , the same as options in scipy.optimize.minimize.|\n",
    "\n",
    "Once the CQS_Solver object is instantiated, the solve function with the argument $-1$ will approximate the solution to the linear system using the current values of the parameters in the parameterized unitaries. The argument -1 indicates that all parameterized unitaries making up the logical ansatz need to be evaluated in the cost function."
   ]
  },
  {
   "cell_type": "code",
   "execution_count": 5,
   "metadata": {},
   "outputs": [
    {
     "name": "stdout",
     "output_type": "stream",
     "text": [
      "0.40525621595826955\n"
     ]
    }
   ],
   "source": [
    "solver = la.CQS_Solver(n_qubits, parameterized_unitaries, create_controlled_state_b, create_controlled_state_b_dg, create_state_A_i, create_state_A_i_dg, coefficients, method, options)\n",
    "solver.solve(-1)\n",
    "\n",
    "print(solver.solution_cost())"
   ]
  },
  {
   "cell_type": "markdown",
   "metadata": {},
   "source": [
    "## Training\n",
    "\n",
    "In order to train the logical ansatz, we have used the minimize_all function. This function tells the minimizer to treat the logical ansatz as a single ansatz and optimize its parameters accordingly. Setting flag to True tells the minimize_all function that the logical ansatz coefficents should be updated along with the parameterized unitary parameter selection during minimization. \n",
    "\n",
    "For example let $L$ denote the logical ansatz with $k$ parameterized ansatz circuits, and $[V_1(\\theta_0), ..., V_n(\\theta_k-1)]$ denote the circuits creating the parameterized unitaries. Then the logical ansatz is written as:\n",
    "\n",
    "$L = \\alpha_0V_0(\\theta_0) + ... + \\alpha_kV_k(\\theta_{k-1})$.\n",
    "\n",
    "Now, the solve(-1) call seen above optimizes the selection of the $\\alpha_i$ parameters. \n",
    "\n",
    "If flag is set to True then all the $\\alpha_0, ..., \\alpha_{k-1}$ parameters are updated during the optimization of all the $\\theta_0, ..., \\theta_{k-1}$ parameters. \n",
    "\n",
    "The method minimize_all is not the only way to select ansatz parameters. The method: \n",
    "\n",
    "minimize(index, flag=False),\n",
    "\n",
    "tells the minimizer to only vary the parameters of the ansatz associated with te index passed to it. Again flag can be set to true if $\\alpha_0, ..., \\alpha_{k-1}$ must be updates during minimization else it can be left as false if they must remain unchanged.\n",
    "\n",
    "Lastly the method add_unitary_and_solve(new_unitary) can be used at any time to add a new unitary to the logical ansatz. "
   ]
  },
  {
   "cell_type": "code",
   "execution_count": 6,
   "metadata": {},
   "outputs": [
    {
     "name": "stdout",
     "output_type": "stream",
     "text": [
      "Training Round 1\n",
      "0.40525621595826955 []\n",
      "0.3742060893112463 [0]\n",
      "0.9787672530941222 [0]\n",
      "0.91492633792989 [0]\n",
      "0.34098571715535686 [0, 1]\n",
      "0.315038752163191 [1]\n",
      "0.23618028851527853 [1]\n",
      "0.9327178832337836 [0, 1]\n",
      "0.6292755491017811 [0, 1]\n",
      "0.1372976520933147 [0, 1]\n",
      "0.27538809053025237 [0, 1]\n",
      "0.20066652291845904 [0, 1]\n",
      "0.4901299487138634 [0, 1]\n",
      "0.1426985422535416 [0, 1]\n",
      "0.3114903690683012 [0, 1]\n",
      "0.21292643698908426 [0, 1]\n",
      "0.12988708138579286 [0, 1]\n",
      "0.21859128406246892 [0, 1]\n",
      "0.14325653350425357 [0, 1]\n",
      "0.04259092597006863 [0, 1]\n",
      "0.018719607108644194 [0, 1]\n",
      "0.012718637627475654 [0, 1]\n",
      "0.015074653721858886 [0, 1]\n",
      "0.018268292947570534 [0, 1]\n",
      "0.008606494882461362 [0, 1]\n",
      "0.05835371039316681 [0, 1]\n",
      "0.04365878112493688 [0, 1]\n",
      "0.0035140139165199054 [0, 1]\n",
      "0.012996129938340472 [0, 1]\n",
      "0.009154865486089998 [0, 1]\n",
      "0.006646960930051194 [0, 1]\n",
      "0.008836480558901997 [0, 1]\n",
      "0.005646307924598722 [0, 1]\n",
      "0.005028743667505006 [0, 1]\n",
      "0.00821059879167123 [0, 1]\n",
      "0.006745162924565355 [0, 1]\n",
      "0.005650018848702006 [0, 1]\n",
      "0.00538881362592821 [0, 1]\n",
      "0.001988901472731279 [0, 1]\n",
      "0.011099290345611305 [0, 1]\n",
      "0.006323421526193514 [0, 1]\n",
      "0.010808278815653223 [0, 1]\n",
      "0.009954257450794266 [0, 1]\n",
      "0.008847912510483717 [0, 1]\n",
      "0.0004256022372400784 [0, 1]\n",
      "0.004360752210703465 [0, 1]\n",
      "0.0049465803718949895 [0, 1]\n",
      "0.0057713663582006644 [0, 1]\n",
      "0.009837784360280552 [0, 1]\n",
      "0.010928265716452492 [0, 1]\n",
      "0.005552513764515707 [0, 1]\n",
      "0.010101068136383909 [0, 1]\n",
      "0.005067135367530347 [0, 1]\n",
      "0.010322999730801597 [0, 1]\n",
      "0.003402905180197504 [0, 1]\n",
      "0.0047021821888136054 [0, 1]\n",
      "0.001457822751637064 [0, 1]\n",
      "0.004708359991909275 [0, 1]\n",
      "0.012311961896551808 [0, 1]\n",
      "0.01279852629875879 [0, 1]\n",
      "0.004236774827194603 [0, 1]\n",
      "0.006026358126274147 [0, 1]\n",
      "0.004352478260367211 [0, 1]\n",
      "0.00821356727281312 [0, 1]\n",
      "0.0013576425597791677 [0, 1]\n",
      "0.0056383741117640605 [0, 1]\n",
      "0.010296353857753637 [0, 1]\n",
      "0.008553860412537657 [0, 1]\n",
      "0.003677296664236746 [0, 1]\n",
      "0.005587170097239957 [0, 1]\n",
      "0.002347142910077138 [0, 1]\n",
      "0.005928010323176508 [0, 1]\n",
      "0.004550657327953641 [0, 1]\n",
      "0.0034418144589516545 [0, 1]\n",
      "0.0017356336745988664 [0, 1]\n",
      "0.009168103299143969\n"
     ]
    },
    {
     "name": "stderr",
     "output_type": "stream",
     "text": [
      "/home/aidan/anaconda3/lib/python3.8/site-packages/qiskit/visualization/counts_visualization.py:239: ComplexWarning: Casting complex values to real discards the imaginary part\n",
      "  values = np.array(values, dtype=float)\n"
     ]
    },
    {
     "data": {
      "image/png": "[encoded data removed]",
      "text/plain": [
       "<Figure size 504x360 with 1 Axes>"
      ]
     },
     "execution_count": 6,
     "metadata": {},
     "output_type": "execute_result"
    }
   ],
   "source": [
    "for i in range(n_training_rounds):\n",
    "    print(\"Training Round {0}\".format(i+1))\n",
    "    solver.minimize_all(flag=True)\n",
    "    solver.solve(-1)\n",
    "\n",
    "q = solver.solution_cost()\n",
    "print(q)\n",
    "\n",
    "result = solver.return_solution_dictionary()\n",
    "plot_histogram(result)"
   ]
  }
 ],
 "metadata": {
  "kernelspec": {
   "display_name": "Python 3",
   "language": "python",
   "name": "python3"
  },
  "language_info": {
   "codemirror_mode": {
    "name": "ipython",
    "version": 3
   },
   "file_extension": ".py",
   "mimetype": "text/x-python",
   "name": "python",
   "nbconvert_exporter": "python",
   "pygments_lexer": "ipython3",
   "version": "3.8.3"
  }
 },
 "nbformat": 4,
 "nbformat_minor": 4
}
